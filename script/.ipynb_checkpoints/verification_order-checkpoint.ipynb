{
 "cells": [
  {
   "cell_type": "markdown",
   "id": "7b087194",
   "metadata": {},
   "source": [
    "# Verification"
   ]
  },
  {
   "cell_type": "markdown",
   "id": "56c22d29",
   "metadata": {},
   "source": [
    "Small program to check the existence of files referenced in the directory and sort it according to the type of documents\n",
    "Bonus : hand count"
   ]
  },
  {
   "cell_type": "code",
   "execution_count": 1,
   "id": "888fef95",
   "metadata": {},
   "outputs": [
    {
     "name": "stdout",
     "output_type": "stream",
     "text": [
      "Requirement already satisfied: pandas in /home/rayondemiel/Bureau/Stage Araucanía/data_preparation/.env/lib/python3.8/site-packages (1.4.2)\r\n",
      "Requirement already satisfied: numpy>=1.18.5; platform_machine != \"aarch64\" and platform_machine != \"arm64\" and python_version < \"3.10\" in /home/rayondemiel/Bureau/Stage Araucanía/data_preparation/.env/lib/python3.8/site-packages (from pandas) (1.22.3)\r\n",
      "Requirement already satisfied: python-dateutil>=2.8.1 in /home/rayondemiel/Bureau/Stage Araucanía/data_preparation/.env/lib/python3.8/site-packages (from pandas) (2.8.2)\r\n",
      "Requirement already satisfied: pytz>=2020.1 in /home/rayondemiel/Bureau/Stage Araucanía/data_preparation/.env/lib/python3.8/site-packages (from pandas) (2022.1)\r\n",
      "Requirement already satisfied: six>=1.5 in /home/rayondemiel/Bureau/Stage Araucanía/data_preparation/.env/lib/python3.8/site-packages (from python-dateutil>=2.8.1->pandas) (1.16.0)\r\n"
     ]
    }
   ],
   "source": [
    "!pip install pandas"
   ]
  },
  {
   "cell_type": "markdown",
   "id": "19eb5c8f",
   "metadata": {},
   "source": [
    "## Check structures"
   ]
  },
  {
   "cell_type": "code",
   "execution_count": 5,
   "id": "0e9d6523",
   "metadata": {},
   "outputs": [
    {
     "name": "stdout",
     "output_type": "stream",
     "text": [
      "       Id               Type  \\\n",
      "0     150            Letters   \n",
      "1     151            Letters   \n",
      "2     152            Letters   \n",
      "3     153             Others   \n",
      "4     154            Letters   \n",
      "..    ...                ...   \n",
      "249   399                Map   \n",
      "250   887  Archives (series)   \n",
      "251   888  Archives (series)   \n",
      "252  1643               Book   \n",
      "253  1677            Letters   \n",
      "\n",
      "                                                 Title  \\\n",
      "0    Carta del 08 de noviembre de 1859 de Cornelio ...   \n",
      "1    Carta del 13 de noviembre de 1859 de Cornelio ...   \n",
      "2    Carta del 13 de noviembre de 1859 de Cornelio ...   \n",
      "3    Relación de los pertrechos de guerra que se ha...   \n",
      "4    Carta del 15 de noviembre de 1859 de José Anto...   \n",
      "..                                                 ...   \n",
      "249  Mapa de 60x89 cms. de la Región de Arauco, mos...   \n",
      "250  Serie de documentos que dan cuenta de los serv...   \n",
      "251  Serie de documentos oficiales firmados por Bel...   \n",
      "252  Libro copiador de correspondencia del general ...   \n",
      "253  Carta del 27 de agosto de 1877 de Cornelio Saa...   \n",
      "\n",
      "                        Author Author2         Date  \\\n",
      "0           Saavedra, Cornelio     NaN   1859/11/08   \n",
      "1           Saavedra, Cornelio     NaN   1859/11/13   \n",
      "2           Saavedra, Cornelio     NaN   1859/11/13   \n",
      "3           Valdivieso, Samuel     NaN   1859/11/13   \n",
      "4        Quezada, José Antonio     NaN   1859/11/15   \n",
      "..                         ...     ...          ...   \n",
      "249                        NaN     NaN  [Siglo XIX]   \n",
      "250                        NaN     NaN    1862-1909   \n",
      "251                        NaN     NaN         1877   \n",
      "252  Urrutia Venegas, Gregorio     NaN   1866/05/04   \n",
      "253         Saavedra, Cornelio     NaN   1877/08/27   \n",
      "\n",
      "                                Location   Nb                     People  \\\n",
      "0                                    NaN    1          Barbosa, Mauricio   \n",
      "1         Chile;Quinta Región;Valparaíso    2          Barbosa, Mauricio   \n",
      "2         Chile;Quinta Región;Valparaíso    1          Barbosa, Mauricio   \n",
      "3         Chile;Quinta Región;Valparaíso    1                        NaN   \n",
      "4             Chile;Octava Región;Arauco    1          Barbosa, Mauricio   \n",
      "..                                   ...  ...                        ...   \n",
      "249                                  NaN    1                        NaN   \n",
      "250                                  NaN   46                        NaN   \n",
      "251                                  NaN   54                        NaN   \n",
      "252             Chile;Octava Región;Lota  600                        NaN   \n",
      "253  Chile;Región Metropolitana;Santiago    1  Urrutia Venegas, Gregorio   \n",
      "\n",
      "        Geo  \n",
      "0       NaN  \n",
      "1       NaN  \n",
      "2       NaN  \n",
      "3       NaN  \n",
      "4       NaN  \n",
      "..      ...  \n",
      "249  Arauco  \n",
      "250     NaN  \n",
      "251     NaN  \n",
      "252     NaN  \n",
      "253     NaN  \n",
      "\n",
      "[254 rows x 10 columns]\n"
     ]
    }
   ],
   "source": [
    "import re\n",
    "import pandas as pd\n",
    "\n",
    "df = pd.read_csv('data/araucania_prepared.csv', delimiter=\";\")\n",
    "\n",
    "print(df)"
   ]
  },
  {
   "cell_type": "markdown",
   "id": "d48f00c4",
   "metadata": {},
   "source": [
    "## Program"
   ]
  },
  {
   "cell_type": "code",
   "execution_count": 16,
   "id": "f8963ba8",
   "metadata": {},
   "outputs": [
    {
     "name": "stdout",
     "output_type": "stream",
     "text": [
      "{'Map', 'Notes', 'Circular', 'Book', 'Letters', 'Others', 'Archives (series)', 'Oficio', 'Report'}\n"
     ]
    }
   ],
   "source": [
    "import re, os\n",
    "import pandas as pd\n",
    "\n",
    "df = pd.read_csv('data/araucania_prepared.csv', delimiter=\";\")\n",
    "\n",
    "complete = re.compile(\"(_|\\d|[tapb])+\")\n",
    "\n",
    "#List type\n",
    "liste_type = []\n",
    "for type in df['Type']:\n",
    "    liste_type.append(type)\n",
    "    type_set = set(liste_type)\n",
    "#\n",
    "for id in df['Id']:\n",
    "    if id != \"\"\n",
    "    path_files = f\"data/jpg/{id}.jpg\"\n",
    "    if os.path.isfile(parth_files)\n",
    "    \n",
    "    \n",
    "print(type_set)\n",
    "\n",
    "#df.to_csv(r'data/araucania_final.csv')"
   ]
  },
  {
   "cell_type": "code",
   "execution_count": null,
   "id": "1b30c1ab",
   "metadata": {},
   "outputs": [],
   "source": []
  }
 ],
 "metadata": {
  "kernelspec": {
   "display_name": "Python 3 (ipykernel)",
   "language": "python",
   "name": "python3"
  },
  "language_info": {
   "codemirror_mode": {
    "name": "ipython",
    "version": 3
   },
   "file_extension": ".py",
   "mimetype": "text/x-python",
   "name": "python",
   "nbconvert_exporter": "python",
   "pygments_lexer": "ipython3",
   "version": "3.8.10"
  }
 },
 "nbformat": 4,
 "nbformat_minor": 5
}
